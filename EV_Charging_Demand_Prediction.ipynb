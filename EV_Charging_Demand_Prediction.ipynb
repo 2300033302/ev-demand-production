{
 "cells": [
  {
   "cell_type": "markdown",
   "id": "fcc91dd5",
   "metadata": {},
   "source": [
    "# 🔋 EV Charging Demand Prediction\n",
    "\n",
    "This project predicts the hourly EV charging demand based on time and weather-related features using a Linear Regression model."
   ]
  },
  {
   "cell_type": "code",
   "execution_count": null,
   "id": "cacb8ccf",
   "metadata": {},
   "outputs": [],
   "source": [
    "import pandas as pd\n",
    "import numpy as np\n",
    "import matplotlib.pyplot as plt\n",
    "import seaborn as sns\n",
    "from sklearn.model_selection import train_test_split\n",
    "from sklearn.linear_model import LinearRegression\n",
    "from sklearn.metrics import mean_squared_error, r2_score\n"
   ]
  },
  {
   "cell_type": "code",
   "execution_count": null,
   "id": "aace9704",
   "metadata": {},
   "outputs": [],
   "source": [
    "# Load dataset\n",
    "df = pd.read_csv(\"ev_charging_data.csv\")\n",
    "df['timestamp'] = pd.to_datetime(df['timestamp'])\n",
    "df.head()\n"
   ]
  },
  {
   "cell_type": "code",
   "execution_count": null,
   "id": "b4010aaa",
   "metadata": {},
   "outputs": [],
   "source": [
    "# Feature engineering\n",
    "df['hour'] = df['timestamp'].dt.hour\n",
    "df['day_of_week'] = df['timestamp'].dt.dayofweek\n",
    "\n",
    "# Define features and target\n",
    "X = df[['hour', 'day_of_week', 'temperature']]\n",
    "y = df['charging_demand']\n"
   ]
  },
  {
   "cell_type": "code",
   "execution_count": null,
   "id": "bf51b34b",
   "metadata": {},
   "outputs": [],
   "source": [
    "# Train-test split\n",
    "X_train, X_test, y_train, y_test = train_test_split(X, y, test_size=0.2, random_state=42)\n"
   ]
  },
  {
   "cell_type": "code",
   "execution_count": null,
   "id": "ca77052d",
   "metadata": {},
   "outputs": [],
   "source": [
    "# Train the model\n",
    "model = LinearRegression()\n",
    "model.fit(X_train, y_train)\n"
   ]
  },
  {
   "cell_type": "code",
   "execution_count": null,
   "id": "29aa7196",
   "metadata": {},
   "outputs": [],
   "source": [
    "# Make predictions\n",
    "y_pred = model.predict(X_test)\n",
    "\n",
    "# Evaluate model\n",
    "print(\"R2 Score:\", r2_score(y_test, y_pred))\n",
    "print(\"RMSE:\", np.sqrt(mean_squared_error(y_test, y_pred)))\n"
   ]
  },
  {
   "cell_type": "code",
   "execution_count": null,
   "id": "a6077ef7",
   "metadata": {},
   "outputs": [],
   "source": [
    "# Plot actual vs predicted\n",
    "plt.figure(figsize=(12, 5))\n",
    "plt.plot(y_test.values, label='Actual')\n",
    "plt.plot(y_pred, label='Predicted')\n",
    "plt.legend()\n",
    "plt.title(\"EV Charging Demand Prediction\")\n",
    "plt.xlabel(\"Samples\")\n",
    "plt.ylabel(\"Charging Demand\")\n",
    "plt.show()\n"
   ]
  }
 ],
 "metadata": {},
 "nbformat": 4,
 "nbformat_minor": 5
}